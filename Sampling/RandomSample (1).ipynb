{
  "nbformat": 4,
  "nbformat_minor": 0,
  "metadata": {
    "colab": {
      "provenance": []
    },
    "kernelspec": {
      "name": "python3",
      "display_name": "Python 3"
    },
    "language_info": {
      "name": "python"
    }
  },
  "cells": [
    {
      "cell_type": "code",
      "execution_count": 1,
      "metadata": {
        "id": "6MMOWuy-bFXp"
      },
      "outputs": [],
      "source": [
        "#Important Libraries\n",
        "import pandas as pd"
      ]
    },
    {
      "cell_type": "markdown",
      "source": [
        "The researchers were not certain whether the description is an important feature or not because it might contain redundant information and it is making the size of the dataset huge. Also, tha data set is composed of 31 files because of its huge size. As a result, we decided to upload only one file and to decide whether to include the description or not. And based on this, we will do the same with the remaining files.\n"
      ],
      "metadata": {
        "id": "KwwXi_LRjlDA"
      }
    },
    {
      "cell_type": "code",
      "source": [
        "df = pd.read_csv(\"used_cars_data-1.csv\")"
      ],
      "metadata": {
        "id": "CUlQwceCb_AV"
      },
      "execution_count": 2,
      "outputs": []
    },
    {
      "cell_type": "code",
      "source": [
        "df.isna().sum()\n"
      ],
      "metadata": {
        "colab": {
          "base_uri": "https://localhost:8080/"
        },
        "id": "y-1ko_tWjRaE",
        "outputId": "2593db55-37df-4bef-9921-000e3a2ded1c"
      },
      "execution_count": 3,
      "outputs": [
        {
          "output_type": "execute_result",
          "data": {
            "text/plain": [
              "vin                         0\n",
              "back_legroom             4954\n",
              "bed                     99393\n",
              "bed_height              91877\n",
              "bed_length              91877\n",
              "                        ...  \n",
              "wheel_system             4624\n",
              "wheel_system_display     4624\n",
              "wheelbase                4954\n",
              "width                    4954\n",
              "year                        0\n",
              "Length: 66, dtype: int64"
            ]
          },
          "metadata": {},
          "execution_count": 3
        }
      ]
    },
    {
      "cell_type": "code",
      "source": [
        "df1_random_sample_of_one_thousand_obs= df.sample(n = 100)"
      ],
      "metadata": {
        "id": "auZOaGSNjTaq"
      },
      "execution_count": 4,
      "outputs": []
    },
    {
      "cell_type": "code",
      "source": [
        "df1_random_sample_of_one_thousand_obs.to_csv(\"sample_of_one_thousand_observation.csv\")"
      ],
      "metadata": {
        "id": "mtBs_yjtjZrg"
      },
      "execution_count": 5,
      "outputs": []
    },
    {
      "cell_type": "markdown",
      "source": [
        "Kindly open the downloaded csv file named sample_of_one_thousand_observation to have a better understanding of the decription column in relation to other variables.\n",
        "\n",
        "The reserachers found that the decription variable carries no additional information about the car. In addition, removing the column Description decreases the file size by 85% which makes the csv file lighter and easier to deal with. Upon reading the observation, the descritption column does not carry additional info than those represented in the other columns. Thus it will be reomved. Since, the size of the individual file is about 350 Megabytes. As a result, it would be hard to upload all of them. So, we decided to remove the description column using excel from the files and then we will upload and concatenate them to complete preprocessing"
      ],
      "metadata": {
        "id": "kF87Bn_tjf_C"
      }
    },
    {
      "cell_type": "code",
      "source": [
        "df1 = pd.read_csv(\"/content/drive/MyDrive/ML Data/used_cars_data-1.csv\")\n",
        "for i in range(2, 32):\n",
        "  path = \"/content/drive/MyDrive/ML Data/used_cars_data-\" + str(i)+ \".csv\"\n",
        "  dft = pd.read_csv(path)\n",
        "  df1 = df1.append(dft)"
      ],
      "metadata": {
        "colab": {
          "base_uri": "https://localhost:8080/"
        },
        "id": "ZsoK7yRLbN5Z",
        "outputId": "df892e97-c31c-4401-bce9-0acfd4370e4b"
      },
      "execution_count": 6,
      "outputs": [
        {
          "output_type": "stream",
          "name": "stderr",
          "text": [
            "/usr/local/lib/python3.8/dist-packages/IPython/core/interactiveshell.py:3326: DtypeWarning: Columns (11) have mixed types.Specify dtype option on import or set low_memory=False.\n",
            "  exec(code_obj, self.user_global_ns, self.user_ns)\n",
            "/usr/local/lib/python3.8/dist-packages/IPython/core/interactiveshell.py:3326: DtypeWarning: Columns (2) have mixed types.Specify dtype option on import or set low_memory=False.\n",
            "  exec(code_obj, self.user_global_ns, self.user_ns)\n"
          ]
        }
      ]
    },
    {
      "cell_type": "markdown",
      "source": [
        "We loaded all the files without the description into a single pandas dataframe."
      ],
      "metadata": {
        "id": "A5p7lkPgjyqo"
      }
    },
    {
      "cell_type": "markdown",
      "source": [
        "At first, we want to investigate the different body types of the cars we have."
      ],
      "metadata": {
        "id": "8OOlQmrn-Frl"
      }
    },
    {
      "cell_type": "code",
      "source": [
        "df1[\"body_type\"].value_counts()"
      ],
      "metadata": {
        "colab": {
          "base_uri": "https://localhost:8080/"
        },
        "id": "pY4Cib8u-XAl",
        "outputId": "677b06f8-9904-48a6-8026-201db7df77f5"
      },
      "execution_count": 7,
      "outputs": [
        {
          "output_type": "execute_result",
          "data": {
            "text/plain": [
              "SUV / Crossover    1416402\n",
              "Sedan               742036\n",
              "Pickup Truck        474595\n",
              "Hatchback            88374\n",
              "Minivan              79802\n",
              "Coupe                71607\n",
              "Van                  47166\n",
              "Wagon                40505\n",
              "Convertible          26010\n",
              "Name: body_type, dtype: int64"
            ]
          },
          "metadata": {},
          "execution_count": 7
        }
      ]
    },
    {
      "cell_type": "code",
      "source": [
        "dft = df1[df1.body_type == \"Pickup Truck\"]\n",
        "dft = dft.append(df1[df1.body_type == \"Van\"])\n",
        "print(\"Percentage of Pickup trucks and Vans = \", len(dft)/len(df1)*100)\n",
        "print(\"Percentage pf null values of bed feature = \", df1.bed.isna().sum()/ len(df1)*100)\n",
        "print(\"Percentage pf null values of bed length feature = \", df1.bed_length.isna().sum()/ len(df1)*100)\n",
        "print(\"Percentage pf null values of bed height feature = \", df1.bed_height.isna().sum()/ len(df1)*100)\n",
        "print(\"Unique values of bed length feature = \", df1.bed_length.unique())\n",
        "print(\"Unique values of bed height feature = \", df1.bed_height.unique())\n",
        "print(\"Percentage of Null values of body type feature = \", df1['body_type'].isna().sum()/len(df1)*100)"
      ],
      "metadata": {
        "colab": {
          "base_uri": "https://localhost:8080/"
        },
        "id": "PnVNg5yB_Tw1",
        "outputId": "d6177c54-7d53-4164-d0c0-96ea41830cc7"
      },
      "execution_count": 8,
      "outputs": [
        {
          "output_type": "stream",
          "name": "stdout",
          "text": [
            "Percentage of Pickup trucks and Vans =  17.39180144264743\n",
            "Percentage pf null values of bed feature =  99.34774203010626\n",
            "Percentage pf null values of bed length feature =  85.69692404101279\n",
            "Percentage pf null values of bed height feature =  85.69692404101279\n",
            "Unique values of bed length feature =  [nan '78.9 in' '--' '81.9 in' '74 in' '67.4 in' '69.9 in' '79.4 in'\n",
            " '69.3 in' '61.7 in' '60.5 in' '67.1 in' '78.8 in' '76.3 in' '78.7 in'\n",
            " '60 in' '98.3 in' '72.7 in' '60.3 in' '71.7 in' '98.2 in' '97.6 in'\n",
            " '98 in' '98.6 in' '73.5 in' '98.1 in' '81.8 in' '66.7 in' '59.5 in'\n",
            " '63.3 in' '77.4 in' '82.2 in' '73.3 in' '73.7 in' '72.8 in' '72.3 in'\n",
            " '82.3 in' '61 in' '97.8 in' '61.1 in' '76.5 in' '82.4 in' '63 in'\n",
            " '67.3 in' '64.9 in' '74.3 in' '97.4 in' '67 in' '55.2 in' '50 in'\n",
            " '69.2 in' '74.5 in' '71.8 in' '67.2 in' '79.1 in' '64 in' '98.5 in'\n",
            " '56.3 in' '49.6 in' '41.5 in' '78 in' '66 in' '77.5 in' '59.3 in'\n",
            " '63.7 in' '75.9 in' '78.6 in' '83.8 in' '74.6 in' '76.8 in' '97 in'\n",
            " '96 in' '98.8 in' '84.6 in' '88.8 in' '97.5 in' '61.5 in' '54.7 in'\n",
            " '63.6 in' '76 in' '76.1 in' '87 in' '97.9 in' '73.2 in']\n",
            "Unique values of bed height feature =  [nan '--']\n",
            "Percentage of Null values of body type feature =  0.45142731430247596\n"
          ]
        }
      ]
    },
    {
      "cell_type": "markdown",
      "source": [
        "From the previous values, we can see that cars of body types: Pickup Trucks and Vans constitute only 17.4 percent of the data. Also, the features associated with them such as the bed, bed_length, bed_height is mostly composed of null values and the non values are not indicative such as in bed height as data are either nulls or \"--\". Bed length is better but it also contains sum values which are \"--\". So, we decided to remove the pickup trucks and the vans and also remove the features: bed, bed_length, and bed_height. Also, we decided to remove the rows having null values of in the body type feature since their percentage is low when compared to the total number of samples."
      ],
      "metadata": {
        "id": "3iZXrbSO-py_"
      }
    },
    {
      "cell_type": "code",
      "source": [
        "df1 = df1[df1.body_type != \"Pickup Truck\"]\n",
        "df1= df1[df1.body_type != \"Van\"]\n",
        "df1= df1[df1[['body_type']].notnull().all(1)]\n",
        "df1 = df1.drop(\"bed\", axis = 1)\n",
        "df1 = df1.drop(\"bed_height\", axis = 1)\n",
        "df1 = df1.drop(\"bed_length\", axis = 1)"
      ],
      "metadata": {
        "id": "SfUpbHNqDAjB"
      },
      "execution_count": 9,
      "outputs": []
    },
    {
      "cell_type": "markdown",
      "source": [
        "For the feature of the photo URL of the car, we decided that we will not do any kind of image processing. As a result, this feature will not be of importance of us. So, we decided to remove it."
      ],
      "metadata": {
        "id": "kYbg8v3VCT9p"
      }
    },
    {
      "cell_type": "code",
      "source": [
        "df1 = df1.drop(\"main_picture_url\", axis = 1)"
      ],
      "metadata": {
        "id": "CEu6DumfC0i0"
      },
      "execution_count": 10,
      "outputs": []
    },
    {
      "cell_type": "code",
      "source": [
        "print(\"Percentage of Null values of combined fuel economy feature = \", df1['combine_fuel_economy'].isna().sum()/len(df1)*100)\n",
        "print(\"Percentage of Null values of is_certified feature = \", df1['is_certified'].isna().sum()/len(df1)*100)"
      ],
      "metadata": {
        "colab": {
          "base_uri": "https://localhost:8080/"
        },
        "id": "cXjSOo_JGGne",
        "outputId": "2296c73b-5ca6-4a1d-a09d-cec492cd4f13"
      },
      "execution_count": 11,
      "outputs": [
        {
          "output_type": "stream",
          "name": "stdout",
          "text": [
            "Percentage of Null values of combined fuel economy feature =  100.0\n",
            "Percentage of Null values of is_certified feature =  100.0\n"
          ]
        }
      ]
    },
    {
      "cell_type": "markdown",
      "source": [
        "Since all of the values of combined fuel economy feature and the is certified feature are nulls, we decided to remove those features."
      ],
      "metadata": {
        "id": "ktB2_E1dGcCe"
      }
    },
    {
      "cell_type": "code",
      "source": [
        "df1 = df1.drop(\"is_certified\", axis = 1)\n",
        "df1 = df1.drop(\"combine_fuel_economy\", axis = 1)"
      ],
      "metadata": {
        "id": "24v8qSRKGrQ5"
      },
      "execution_count": 12,
      "outputs": []
    },
    {
      "cell_type": "code",
      "source": [
        "print(\"Percentage of Null values of cabin feature = \", df1['cabin'].isna().sum()/len(df1)*100)\n",
        "print(\"Percentage of Null values of is_oemcpo feature = \", df1['is_oemcpo'].isna().sum()/len(df1)*100)"
      ],
      "metadata": {
        "colab": {
          "base_uri": "https://localhost:8080/"
        },
        "id": "StigSGYRKI6v",
        "outputId": "f5855fa9-9360-4612-eaf4-67a9c59f9ee7"
      },
      "execution_count": 15,
      "outputs": [
        {
          "output_type": "stream",
          "name": "stdout",
          "text": [
            "Percentage of Null values of cabin feature =  99.99833653583995\n",
            "Percentage of Null values of is_oemcpo feature =  95.12678031237422\n"
          ]
        }
      ]
    },
    {
      "cell_type": "markdown",
      "source": [
        "Since a huge percentage of the cabin - a feature for trucks and vans-   feature and the is_oemcpo - a feature describing whether Pre-owned cars were certified by the manufacturer-  feature are nulls, we decided to remove those features."
      ],
      "metadata": {
        "id": "CNs6MIYvKXnS"
      }
    },
    {
      "cell_type": "code",
      "source": [
        "df1 = df1.drop(\"cabin\", axis = 1)\n",
        "df1 = df1.drop(\"is_oemcpo\", axis = 1)"
      ],
      "metadata": {
        "id": "C_i20150Kt9o"
      },
      "execution_count": 16,
      "outputs": []
    },
    {
      "cell_type": "code",
      "source": [
        "print(\"Percentage of Null values of vehicle_damage_category feature = \", df1['vehicle_damage_category'].isna().sum()/len(df1)*100)\n"
      ],
      "metadata": {
        "colab": {
          "base_uri": "https://localhost:8080/"
        },
        "id": "XTYlLSHzK9Ja",
        "outputId": "4891c7d0-e314-46d9-ebde-7c72f9dbb99b"
      },
      "execution_count": 18,
      "outputs": [
        {
          "output_type": "stream",
          "name": "stdout",
          "text": [
            "Percentage of Null values of vehicle_damage_category feature =  100.0\n"
          ]
        }
      ]
    },
    {
      "cell_type": "markdown",
      "source": [
        "Since all values of the vehicle damage category feature are nulls, we decided to remove this feature."
      ],
      "metadata": {
        "id": "V8RUDQA4LFqk"
      }
    },
    {
      "cell_type": "code",
      "source": [
        "df1 = df1.drop(\"vehicle_damage_category\", axis = 1)"
      ],
      "metadata": {
        "id": "a_0ioVQwLPky"
      },
      "execution_count": 19,
      "outputs": []
    },
    {
      "cell_type": "code",
      "source": [
        "print(\"Percentage of Null values of is cpo feature = \", df1['is_cpo'].isna().sum()/len(df1)*100)\n"
      ],
      "metadata": {
        "colab": {
          "base_uri": "https://localhost:8080/"
        },
        "id": "Vftogeb7NDnL",
        "outputId": "365b5523-7848-4794-fd6b-d74f3c706dec"
      },
      "execution_count": 23,
      "outputs": [
        {
          "output_type": "stream",
          "name": "stdout",
          "text": [
            "Percentage of Null values of is cpo feature =  93.19996137517364\n"
          ]
        }
      ]
    },
    {
      "cell_type": "markdown",
      "source": [
        "Since most of the values of the is cpo feature are nulls, we decided to remove this feature"
      ],
      "metadata": {
        "id": "gJiU3N5RNNqc"
      }
    },
    {
      "cell_type": "code",
      "source": [
        "df1 = df1.drop(\"is_cpo\", axis = 1)"
      ],
      "metadata": {
        "id": "rrfjsayYNVx1"
      },
      "execution_count": 24,
      "outputs": []
    },
    {
      "cell_type": "markdown",
      "source": [
        "Now, we will get a random sample from the data. We agreed to take 200000 samples."
      ],
      "metadata": {
        "id": "_b6gJoQPHAyz"
      }
    },
    {
      "cell_type": "code",
      "source": [
        "Data = df1.sample(n = 200000)"
      ],
      "metadata": {
        "id": "hRNGXp8ikE7o"
      },
      "execution_count": 25,
      "outputs": []
    },
    {
      "cell_type": "code",
      "source": [
        "Data.info()"
      ],
      "metadata": {
        "colab": {
          "base_uri": "https://localhost:8080/"
        },
        "id": "xqvpoXNvkaCO",
        "outputId": "df8cb9a1-a796-4429-c096-ba4b71f854fd"
      },
      "execution_count": 26,
      "outputs": [
        {
          "output_type": "stream",
          "name": "stdout",
          "text": [
            "<class 'pandas.core.frame.DataFrame'>\n",
            "Int64Index: 200000 entries, 57071 to 83398\n",
            "Data columns (total 55 columns):\n",
            " #   Column                Non-Null Count   Dtype  \n",
            "---  ------                --------------   -----  \n",
            " 0   vin                   200000 non-null  object \n",
            " 1   back_legroom          192540 non-null  object \n",
            " 2   body_type             200000 non-null  object \n",
            " 3   city                  200000 non-null  object \n",
            " 4   city_fuel_economy     176380 non-null  float64\n",
            " 5   daysonmarket          200000 non-null  int64  \n",
            " 6   dealer_zip            200000 non-null  object \n",
            " 7   engine_cylinders      194920 non-null  object \n",
            " 8   engine_displacement   191357 non-null  float64\n",
            " 9   engine_type           194920 non-null  object \n",
            " 10  exterior_color        199996 non-null  object \n",
            " 11  fleet                 108332 non-null  object \n",
            " 12  frame_damaged         108332 non-null  object \n",
            " 13  franchise_dealer      200000 non-null  bool   \n",
            " 14  franchise_make        160488 non-null  object \n",
            " 15  front_legroom         192540 non-null  object \n",
            " 16  fuel_tank_volume      192540 non-null  object \n",
            " 17  fuel_type             196297 non-null  object \n",
            " 18  has_accidents         108332 non-null  object \n",
            " 19  height                192540 non-null  object \n",
            " 20  highway_fuel_economy  176380 non-null  float64\n",
            " 21  horsepower            191357 non-null  float64\n",
            " 22  interior_color        199990 non-null  object \n",
            " 23  isCab                 108332 non-null  object \n",
            " 24  is_new                200000 non-null  bool   \n",
            " 25  latitude              200000 non-null  float64\n",
            " 26  length                192540 non-null  object \n",
            " 27  listed_date           200000 non-null  object \n",
            " 28  listing_color         200000 non-null  object \n",
            " 29  listing_id            200000 non-null  int64  \n",
            " 30  longitude             200000 non-null  float64\n",
            " 31  major_options         188278 non-null  object \n",
            " 32  make_name             200000 non-null  object \n",
            " 33  maximum_seating       192540 non-null  object \n",
            " 34  mileage               191049 non-null  float64\n",
            " 35  model_name            200000 non-null  object \n",
            " 36  owner_count           103263 non-null  float64\n",
            " 37  power                 170366 non-null  object \n",
            " 38  price                 200000 non-null  float64\n",
            " 39  salvage               108332 non-null  object \n",
            " 40  savings_amount        200000 non-null  int64  \n",
            " 41  seller_rating         197294 non-null  float64\n",
            " 42  sp_id                 199993 non-null  float64\n",
            " 43  sp_name               200000 non-null  object \n",
            " 44  theft_title           108332 non-null  object \n",
            " 45  torque                167437 non-null  object \n",
            " 46  transmission          195802 non-null  object \n",
            " 47  transmission_display  195802 non-null  object \n",
            " 48  trimId                195391 non-null  object \n",
            " 49  trim_name             195368 non-null  object \n",
            " 50  wheel_system          193140 non-null  object \n",
            " 51  wheel_system_display  193140 non-null  object \n",
            " 52  wheelbase             192540 non-null  object \n",
            " 53  width                 192540 non-null  object \n",
            " 54  year                  200000 non-null  int64  \n",
            "dtypes: bool(2), float64(11), int64(4), object(38)\n",
            "memory usage: 82.8+ MB\n"
          ]
        }
      ]
    },
    {
      "cell_type": "code",
      "source": [
        "Data.to_csv(\"Final_Sample.csv\")"
      ],
      "metadata": {
        "id": "zg1tSCbdkexA"
      },
      "execution_count": 27,
      "outputs": []
    },
    {
      "cell_type": "markdown",
      "source": [
        "Now, we saved the sample to a csv file. We will download it and work on it in another Notebook."
      ],
      "metadata": {
        "id": "WFXmcJ7yLevW"
      }
    }
  ]
}